{
 "cells": [
  {
   "cell_type": "markdown",
   "id": "e0e4755a-7b10-4cf0-b694-b1367ce2c7ca",
   "metadata": {},
   "source": [
    "# GBRT experimets - environment test"
   ]
  },
  {
   "cell_type": "markdown",
   "id": "9cf2a58f-546d-4ce9-aa1d-a33468625dcc",
   "metadata": {},
   "source": [
    "## import python packages"
   ]
  },
  {
   "cell_type": "code",
   "execution_count": 1,
   "id": "bf851e66-5bdc-4eba-9108-69f1890f1d22",
   "metadata": {
    "tags": []
   },
   "outputs": [],
   "source": [
    "import pandas as pd\n",
    "import lightgbm as lgb\n",
    "import numpy as np\n",
    "from sklearn.model_selection import train_test_split\n",
    "from sklearn.metrics import mean_squared_error as mse\n",
    "import matplotlib.pyplot as plt\n",
    "from matplotlib.patches import Rectangle\n",
    "\n",
    "%matplotlib inline\n",
    "%config InlineBackend.figure_format = 'retina'\n",
    "from tqdm.notebook import trange, tqdm\n",
    "from itertools import product, chain\n",
    "from scipy.stats.qmc import LatinHypercube as LHS\n",
    "\n",
    "import seaborn as sns\n",
    "sns.set()\n",
    "\n",
    "from scipy.stats import norm, invgamma, rv_discrete\n",
    "from scipy import integrate\n",
    "from ibug import IBUGWrapper\n",
    "from sklearn.neighbors import NearestCentroid\n",
    "from sklearn.preprocessing import OrdinalEncoder\n",
    "from scipy.stats import ttest_ind, chisquare\n",
    "from sklearn.linear_model import LinearRegression\n",
    "from scipy.optimize import minimize_scalar, minimize"
   ]
  },
  {
   "cell_type": "markdown",
   "id": "23c8acc0-efd0-4a69-9db1-26b11b76189e",
   "metadata": {},
   "source": [
    "## set up julia runtime"
   ]
  },
  {
   "cell_type": "code",
   "execution_count": 2,
   "id": "3f134060-8d05-4d4f-a485-f1a9babde4f0",
   "metadata": {
    "tags": []
   },
   "outputs": [
    {
     "name": "stdout",
     "output_type": "stream",
     "text": [
      "Initializing Julia interpreter. This may take some time...\n",
      "done Julia_CRPS_Scoring.jl include\n",
      "CPU times: user 1min 5s, sys: 3.15 s, total: 1min 8s\n",
      "Wall time: 1min 8s\n"
     ]
    }
   ],
   "source": [
    "%%time\n",
    "import julia, os\n",
    "\n",
    "julia_path_ = '/home/jungadam/idms/julia-1.9.2/bin/julia' \n",
    "# julia_path_ = 'julia-1.9.2/bin/julia'\n",
    "\n",
    "julia.Julia(runtime=julia_path_, compiled_modules=False)\n",
    "\n",
    "%load_ext julia.magic\n",
    "\n",
    "%julia include(\"Julia_CRPS_Scoring.jl\")\n",
    "%julia using .Julia_CRPS_Scoring\n",
    "\n",
    "print(\"done Julia_CRPS_Scoring.jl include\")"
   ]
  },
  {
   "cell_type": "markdown",
   "id": "2f41517d-22f9-41c2-b529-bae3cfc99f28",
   "metadata": {
    "tags": []
   },
   "source": [
    "## test run with a selection of models"
   ]
  },
  {
   "cell_type": "markdown",
   "id": "2562da7c-df3a-45da-9a2f-5dcba1cac1a9",
   "metadata": {
    "tags": []
   },
   "source": [
    "### model implementations"
   ]
  },
  {
   "cell_type": "code",
   "execution_count": 3,
   "id": "6055195d-1e81-450a-8987-c195f04f0924",
   "metadata": {
    "tags": []
   },
   "outputs": [],
   "source": [
    "from scipy.stats import ecdf as ecdf_special\n",
    "class ECDF_RV:\n",
    "    \"\"\"wrapper for work with ecdf result as standard scipy RVs\"\"\"\n",
    "    \n",
    "    def __init__(self, ecdf_rv, samples):\n",
    "        self.ecdf_rv = ecdf_rv\n",
    "        self.samples = samples\n",
    "        \n",
    "    def cdf(self, x):\n",
    "        return self.ecdf_rv.cdf.evaluate(x)\n",
    "    \n",
    "    def ppf(self, x):\n",
    "        i = np.searchsorted(self.ecdf_rv.cdf.probabilities, x)\n",
    "        return self.ecdf_rv.cdf.quantiles[i]\n",
    "    \n",
    "    def mean(self):\n",
    "        return self.samples.mean()\n",
    "    \n",
    "    def var(self):\n",
    "        return self.samples.var()\n",
    "    \n",
    "ecdf = lambda samples : ECDF_RV(ecdf_special(samples), samples)"
   ]
  },
  {
   "cell_type": "code",
   "execution_count": 7,
   "id": "40c49e1a-f1fa-410a-a578-9c71670634d1",
   "metadata": {
    "tags": []
   },
   "outputs": [],
   "source": [
    "def fit_MM_inv_gamma(m, s):\n",
    "    \"\"\"\n",
    "    fit inv gamma to first two moments 'm' and 's',\n",
    "    with method of moments.\n",
    "    \"\"\"\n",
    "    \n",
    "    # assert s > 0, \"elfajult szoras\"\n",
    "    if s == 0:\n",
    "        return rv_discrete(name='custm', values=(m, 1))\n",
    "        \n",
    "    \n",
    "    fit_alpha = m**2 / s + 2\n",
    "    fit_scale = m * (fit_alpha - 1)\n",
    "    \n",
    "    rv = invgamma(a = fit_alpha, scale = fit_scale, loc = 0)\n",
    "    \n",
    "    if np.isnan(rv.mean()) or np.isnan(rv.var()):\n",
    "        raise Exception(f\"fit error {(m, s,  fit_alpha, fit_scale)}\")\n",
    "    \n",
    "    return rv\n",
    "\n",
    "fit_MM_inv_gamma = np.vectorize(fit_MM_inv_gamma)"
   ]
  },
  {
   "cell_type": "code",
   "execution_count": 4,
   "id": "0a89219a-d119-4427-9026-a2bb1b322de6",
   "metadata": {
    "tags": []
   },
   "outputs": [],
   "source": [
    "def auto_scale_variance(loc, var, y):\n",
    "    \"\"\"return optimal_variance_coeff, CRPS_score\"\"\"\n",
    "    def f(s, loc = loc, y = y):\n",
    "        var_scaled = var * s\n",
    "        crps = %julia CRPS_distribution($loc, $var_scaled, $y)\n",
    "        return crps.mean()\n",
    "\n",
    "    res = minimize_scalar(f)\n",
    "    return res.x, res.fun"
   ]
  },
  {
   "cell_type": "code",
   "execution_count": 5,
   "id": "1a320d2e-5410-42c2-9621-9bd9fa7a2c31",
   "metadata": {
    "tags": []
   },
   "outputs": [],
   "source": [
    "class UncertaintyMeasure:\n",
    "    def __init__(self, model_params = {}):\n",
    "        self.model = lgb.LGBMRegressor(**model_params)\n",
    "        \n",
    "    def fit(self, X_train, y_train, X_opt, y_opt, model_fit_params = {}):\n",
    "        self.X_train = X_train\n",
    "        self.y_train = y_train\n",
    "        self.model.fit(self.X_train, \n",
    "                       np.log(self.y_train), **model_fit_params)\n",
    "        return self\n",
    "        \n",
    "    def predict_loc(self, X_pred):\n",
    "        return np.exp(self.model.predict(X_pred))\n",
    "\n",
    "    def predict_rv(self, X):\n",
    "        \"\"\"pont becsles\"\"\"\n",
    "        y = np.exp(self.model.predict(X))\n",
    "        return np.array([rv_discrete(values=(m, 1)) for m in y])\n",
    "\n",
    "    \n",
    "    def crps_score(self, X_val, y_val):\n",
    "        loc = self.predict_loc(X_val)\n",
    "        samples = loc.reshape(-1,1)\n",
    "        crps_score = %julia CRPS_ecdf($samples, $y_val)   \n",
    "        return crps_score\n",
    "    \n",
    "    \n",
    "    def skill_scores(self, X_val, y_val, ref_scores):\n",
    "        crps_score = self.crps_score(X_val, y_val)\n",
    "        skill_scores = {\"crps\" : crps_score, \n",
    "                          **{n : skill_score(crps_score, ref_scores[n].mean()) \n",
    "                                                 for n in ref_scores.columns[:-1]}}\n",
    "        return pd.DataFrame.from_dict(skill_scores)\n",
    "\n",
    "    \n",
    "    def score(self, X_val, y_val, ref_scores):\n",
    "        \"\"\"\n",
    "        retrun skill scores and p value\n",
    "        on validation set\n",
    "        \"\"\"\n",
    "        skill_scores = self.skill_scores(X_val, y_val, ref_scores)\n",
    "        pvalue = ttest_ind(ref_scores[\"location_ig\"], skill_scores[\"crps\"]).pvalue\n",
    "        return {**skill_scores.mean().to_dict(), \"p_value\" : pvalue}"
   ]
  },
  {
   "cell_type": "code",
   "execution_count": 6,
   "id": "b2a0a3eb-0029-44b9-94a6-707b62ccf942",
   "metadata": {
    "tags": []
   },
   "outputs": [],
   "source": [
    "class UMMoments(UncertaintyMeasure):\n",
    "    \"\"\"\n",
    "    uncertainty measure using a 2 parameter\n",
    "    distribution (e.g. inverse gamma)\n",
    "    \"\"\"\n",
    "    \n",
    "    def __init__(self, model_params = {}, distribution = \"InverseGamma\"):\n",
    "        super().__init__(model_params)\n",
    "        self.distribution = distribution\n",
    "        self.affin_coeffs = (1,0) # (a,b) : var := a * var + b\n",
    "        \n",
    "    def get_moments(self, X_pred):\n",
    "        \"\"\"point predict\"\"\"\n",
    "        loc = self.predict_loc(X_pred)\n",
    "        var = np.zeros_like(loc)\n",
    "        return loc, var\n",
    "        \n",
    "    def predict_rv(self, X):\n",
    "        loc, var = self.get_moments(X)\n",
    "        \n",
    "        assert self.distribution == \"InverseGamma\", f\"{self.distribution} is not implemented\"\n",
    "        return fit_MM_inv_gamma(loc, var)\n",
    "        \n",
    "    def crps_score(self, X_val, y_val):\n",
    "        loc, var = self.get_moments(X_val)\n",
    "        distr = self.distribution\n",
    "        crps_score = %julia CRPS_distribution($loc, $var, $y_val, $distr)\n",
    "        return crps_score\n",
    "    \n",
    "    \n",
    "    def auto_tune_affin_global(self, X_opt, y_opt):\n",
    "        \"\"\"find optimal variance scaling on `opt` dataset\"\"\"\n",
    "        \n",
    "        loc, var = self.get_moments(X_opt)\n",
    "        a, crps = auto_scale_variance(loc, var, y_opt)\n",
    "        \n",
    "        self.affin_coeffs = (a,0)\n",
    "        \n",
    "        return crps"
   ]
  },
  {
   "cell_type": "code",
   "execution_count": 8,
   "id": "810cbe41-6af0-42ff-ab2a-44d914f9ed60",
   "metadata": {
    "tags": []
   },
   "outputs": [],
   "source": [
    "class LocAffin_var(UMMoments):\n",
    "    \"\"\"\n",
    "    loc = gbdt prediction\n",
    "    var = a * loc + b\n",
    "    \"\"\"\n",
    "    \n",
    "    def fit(self, X_train, y_train, X_opt, y_opt):\n",
    "        super().fit(X_train, y_train, X_opt, y_opt)\n",
    "        self.optimize_var_coeffs(X_opt, y_opt)  \n",
    "        return self\n",
    "    \n",
    "    def get_moments(self, X_pred):\n",
    "        loc = np.exp(self.model.predict(X_pred))\n",
    "        var = loc * self.var_coeffs[0] + self.var_coeffs[1]\n",
    "        var[var <= 0] = 0\n",
    "        return loc, var\n",
    "    \n",
    "    def optimize_var_coeffs(self, X_opt, y_opt):\n",
    "        loc = np.exp(self.model.predict(X_opt))\n",
    "        def f(x, y_opt = y_opt):\n",
    "            var = loc * x[0] + x[1]\n",
    "            var[var <= 0] = 0\n",
    "            crps = %julia CRPS_distribution($loc, $var, $y_opt)\n",
    "            return crps.mean()\n",
    "\n",
    "        res = minimize(f, x0 = [1,0])\n",
    "        self.var_coeffs = res.x"
   ]
  },
  {
   "cell_type": "code",
   "execution_count": 9,
   "id": "c5038302-e70c-471b-9946-51a94923cb38",
   "metadata": {
    "tags": []
   },
   "outputs": [],
   "source": [
    "class Constant_var(UMMoments):\n",
    "    \"\"\"\n",
    "    loc = gbdt prediction\n",
    "    var = const\n",
    "    \"\"\"\n",
    "\n",
    "    def fit(self, X_train, y_train, X_opt, y_opt):\n",
    "        super().fit(X_train, y_train, X_opt, y_opt)\n",
    "        self.optimize_var_coeff(X_opt, y_opt)  \n",
    "        return self\n",
    "    \n",
    "    def get_moments(self, X_pred):\n",
    "        loc = np.exp(self.model.predict(X_pred))\n",
    "        var = np.ones_like(loc) * self.var_coeff\n",
    "        var[var <= 0] = 0\n",
    "        return loc, var\n",
    "    \n",
    "    def optimize_var_coeff(self, X_opt, y_opt):\n",
    "        loc = np.exp(self.model.predict(X_opt))\n",
    "        def f(x, y_opt = y_opt):\n",
    "            var = np.ones_like(loc) * x\n",
    "            var[var <= 0] = 0\n",
    "            crps = %julia CRPS_distribution($loc, $var, $y_opt)\n",
    "            return crps.mean()\n",
    "\n",
    "        res = minimize_scalar(f)\n",
    "        self.var_coeff = res.x"
   ]
  },
  {
   "cell_type": "code",
   "execution_count": 66,
   "id": "b4b3ed23-6d7c-4941-beeb-190ca21c2fc0",
   "metadata": {
    "tags": []
   },
   "outputs": [],
   "source": [
    "class InstanceBasedUncertainty(UMMoments):\n",
    "    def fit(self,X_train, y_train, X_opt, y_opt, model_params = {\"k\" : 40}):\n",
    "        super().fit(X_train, y_train, X_opt, y_opt)\n",
    "        self.pmodel = IBUGWrapper(**model_params)\n",
    "        self.pmodel.fit(self.model, \n",
    "                        self.X_train.to_numpy(), \n",
    "                        np.log(self.y_train.to_numpy()))\n",
    "        \n",
    "        # self.auto_fit_k()\n",
    "        # self.auto_tune_affin_global(X_opt, y_opt)\n",
    "        self.affin_coeffs = (0.08,0)\n",
    "        return self\n",
    "    \n",
    "    def get_moments(self, X, return_kneighbours_y = False):\n",
    "    \n",
    "        loc, _, _, train_vals = self.pmodel.pred_dist(X.to_numpy(), \n",
    "                                                      return_kneighbors=True)\n",
    "        loc = np.exp(loc)\n",
    "        train_vals = np.exp(train_vals)\n",
    "\n",
    "        mean, var = train_vals.mean(axis = 1), train_vals.var(axis = 1)\n",
    "        var = self.affin_coeffs[0] * var + self.affin_coeffs[1]\n",
    "        \n",
    "        if return_kneighbours_y: return loc, var, train_vals\n",
    "        else:                    return loc, var\n",
    "        \n",
    "    \n",
    "    def auto_fit_k(self):\n",
    "        def f(k):\n",
    "            if k <= 0:\n",
    "                return np.inf\n",
    "            k = int(k)\n",
    "            \n",
    "            self.pmodel = IBUGWrapper(k = k)\n",
    "            self.pmodel.fit(self.model, \n",
    "                            self.X_train.to_numpy(), \n",
    "                            np.log(self.y_train.to_numpy()))\n",
    "            \n",
    "            return self.crps_score(X_opt, y_opt).mean()\n",
    "\n",
    "        res = minimize_scalar(f, bounds = [2,300])\n",
    "        return res.fun, int(res.x)"
   ]
  },
  {
   "cell_type": "code",
   "execution_count": 222,
   "id": "745b95be-950d-468e-9530-a3f2acfa7184",
   "metadata": {
    "tags": []
   },
   "outputs": [],
   "source": [
    "class NpyInstanceBasedUncertainty(UMMoments):\n",
    "    def fit(self,X_train, y_train, X_opt, y_opt, k = 40, model_fit_params = {}):\n",
    "        super().fit(X_train, y_train, X_opt, y_opt)\n",
    "        \n",
    "        self.L_train = self.model.predict(X_train, pred_leaf = True)\n",
    "        self.k = k\n",
    "        \n",
    "        self.auto_tune_affin_global(X_opt, y_opt)\n",
    "        self.auto_tune_k(X_opt, y_opt)\n",
    "        return self\n",
    "    \n",
    "    def get_y_simmilarities(self, X_pred):\n",
    "        L_pred = self.model.predict(X_pred, pred_leaf = True)\n",
    "        L_train_b = self.L_train.T[np.newaxis, :,:]\n",
    "        L_pred_b = np.broadcast_to(L_pred[:,:,np.newaxis], \n",
    "                                   shape = (*L_pred.shape, self.L_train.shape[0]))\n",
    "        leaf_matches = L_train_b == L_pred_b\n",
    "        \n",
    "        sum_of_same_leaf = leaf_matches.sum(axis = 1)\n",
    "        y_train_br = np.broadcast_to(y_train.values[np.newaxis, :], shape = sum_of_same_leaf.shape)\n",
    "        perm = np.argsort(sum_of_same_leaf, axis = 1)\n",
    "        simmilar_train_y = np.take_along_axis(y_train_br, perm, axis = 1)\n",
    "        return simmilar_train_y\n",
    "    \n",
    "    def get_moments(self, X_pred):\n",
    "        loc =  np.exp(self.model.predict(X_pred))\n",
    "        \n",
    "\n",
    "        simmilar_train_y = self.get_y_simmilarities(X_pred)\n",
    "        k = self.k\n",
    "        var = simmilar_train_y[:,-k:].var(axis = 1)\n",
    "        var = self.affin_coeffs[0] * var + self.affin_coeffs[1]\n",
    "        return loc, var\n",
    "    \n",
    "    def auto_tune_k(self, X_opt, y_opt):\n",
    "        simmilar_train_y = self.get_y_simmilarities(X_opt)\n",
    "        loc =  np.exp(self.model.predict(X_opt))\n",
    "\n",
    "        def f(k, y_opt = y_opt):\n",
    "            if k <= 0:\n",
    "                return np.inf\n",
    "            k = int(k)\n",
    "            \n",
    "            var = simmilar_train_y[:,-k:].var(axis = 1)\n",
    "            var = self.affin_coeffs[0] * var + self.affin_coeffs[1]\n",
    "            lloc, ly_opt = loc, y_opt\n",
    "            crps = %julia CRPS_distribution($lloc, $var, $ly_opt)\n",
    "            return crps.mean()\n",
    "        \n",
    "        # res = minimize_scalar(f)\n",
    "        # self.k = int(res.x)\n",
    "        test_k = [*range(2,100)]#[3,4,5,10,20,30,40,60,80,100]\n",
    "        test = [(k, f(k)) for k in tqdm(test_k, desc= \"optimise k\", leave=False)]\n",
    "        \n",
    "        k, m = min(test, key = lambda t : t[1])\n",
    "        self.k = k\n",
    "        \n",
    "        \n",
    "        return k, m, test\n",
    "            "
   ]
  },
  {
   "cell_type": "markdown",
   "id": "61b0a29c-cc84-43fc-9905-0e1b7ee33705",
   "metadata": {},
   "source": [
    "### test models"
   ]
  },
  {
   "cell_type": "code",
   "execution_count": 11,
   "id": "531967a8-484b-4d50-b01d-e925312f18ec",
   "metadata": {
    "tags": []
   },
   "outputs": [],
   "source": [
    "#load sgem matrix product dataset\n",
    "df = pd.read_csv(\"sgemm_product.csv\")\n",
    "\n",
    "runCols = [\"Run1 (ms)\", \"Run2 (ms)\", \"Run3 (ms)\", \"Run4 (ms)\"]\n",
    "df[\"minRun\"] = df[runCols].min(axis = 1)\n",
    "df[\"meanRun\"] = df[runCols].mean(axis = 1)\n",
    "\n",
    "X = df.drop(columns = [*runCols, \"minRun\", \"meanRun\"])\n",
    "target = \"minRun\"\n",
    "Y = df[target]"
   ]
  },
  {
   "cell_type": "code",
   "execution_count": 12,
   "id": "ebcd0a83-78ad-4fc3-9564-0d0e2bc6f664",
   "metadata": {
    "tags": []
   },
   "outputs": [],
   "source": [
    "#split data \n",
    "\n",
    "# validate model:\n",
    "X_data, X_val, y_data, y_val = train_test_split(X, Y, test_size = 50000, random_state=1)\n",
    "# fine tune hyperparam:\n",
    "X_data, X_opt, y_data, y_opt = train_test_split(X_data, y_data, test_size = 999, random_state=1)\n",
    "# train model:\n",
    "X_train, X_data, y_train, y_data = train_test_split(X_data, y_data, train_size = 1000, random_state=1)"
   ]
  },
  {
   "cell_type": "code",
   "execution_count": 13,
   "id": "85bcd2bf-2368-4bb9-b13b-f36bfd757050",
   "metadata": {
    "tags": []
   },
   "outputs": [],
   "source": [
    "train_set = X_train, y_train, X_opt, y_opt"
   ]
  },
  {
   "cell_type": "code",
   "execution_count": 272,
   "id": "4981f125-1341-420e-a6f4-9b423ea5e843",
   "metadata": {
    "tags": []
   },
   "outputs": [],
   "source": [
    "models = [UMMoments, LocAffin_var, Constant_var, NpyInstanceBasedUncertainty]"
   ]
  },
  {
   "cell_type": "code",
   "execution_count": 273,
   "id": "37c05205-641a-4c3b-bba9-01cac3e891b8",
   "metadata": {
    "tags": []
   },
   "outputs": [
    {
     "data": {
      "application/vnd.jupyter.widget-view+json": {
       "model_id": "005e3130b458459eb6c260936aaaa248",
       "version_major": 2,
       "version_minor": 0
      },
      "text/plain": [
       "  0%|          | 0/4 [00:00<?, ?it/s]"
      ]
     },
     "metadata": {},
     "output_type": "display_data"
    },
    {
     "data": {
      "application/vnd.jupyter.widget-view+json": {
       "model_id": "",
       "version_major": 2,
       "version_minor": 0
      },
      "text/plain": [
       "optimise k:   0%|          | 0/98 [00:00<?, ?it/s]"
      ]
     },
     "metadata": {},
     "output_type": "display_data"
    }
   ],
   "source": [
    "scores = {}\n",
    "for Model in tqdm(models):\n",
    "    m = Model().fit(X_train, y_train, X_opt, y_opt)\n",
    "    crps = m.crps_score(X_val, y_val)\n",
    "    scores[Model.__name__] = crps"
   ]
  },
  {
   "cell_type": "code",
   "execution_count": 274,
   "id": "fde4646f-501b-4fe5-bf38-d5117eb5246c",
   "metadata": {
    "tags": []
   },
   "outputs": [
    {
     "data": {
      "text/plain": [
       "UMMoments                      53.395407\n",
       "LocAffin_var                   39.045181\n",
       "Constant_var                   44.126079\n",
       "NpyInstanceBasedUncertainty    39.544588\n",
       "dtype: float64"
      ]
     },
     "execution_count": 274,
     "metadata": {},
     "output_type": "execute_result"
    }
   ],
   "source": [
    "pd.DataFrame(scores).mean()"
   ]
  },
  {
   "cell_type": "code",
   "execution_count": 98,
   "id": "a4fe6880-cc89-4501-9f9c-0b3704f537ee",
   "metadata": {
    "tags": []
   },
   "outputs": [],
   "source": [
    "m = InstanceBasedUncertainty()"
   ]
  },
  {
   "cell_type": "code",
   "execution_count": 99,
   "id": "00604f85-af8d-4b2c-a0f0-07a1e96e16d2",
   "metadata": {
    "tags": []
   },
   "outputs": [],
   "source": [
    "m.fit(X_train, y_train, X_opt, y_opt)"
   ]
  },
  {
   "cell_type": "code",
   "execution_count": 69,
   "id": "39def052-a538-40ac-9213-a85131bacbe7",
   "metadata": {
    "tags": []
   },
   "outputs": [],
   "source": [
    "crps = m.crps_score(X_val, y_val)"
   ]
  },
  {
   "cell_type": "code",
   "execution_count": 71,
   "id": "b5e29ef0-62ec-4635-91e9-f26b030e5488",
   "metadata": {
    "tags": []
   },
   "outputs": [
    {
     "data": {
      "text/plain": [
       "46.05919077734371"
      ]
     },
     "execution_count": 71,
     "metadata": {},
     "output_type": "execute_result"
    }
   ],
   "source": [
    "crps.mean()"
   ]
  },
  {
   "cell_type": "code",
   "execution_count": 108,
   "id": "af1a9145-4572-4e29-be96-f33bf0701b41",
   "metadata": {
    "tags": []
   },
   "outputs": [
    {
     "data": {
      "text/plain": [
       "42.70783223603656"
      ]
     },
     "execution_count": 108,
     "metadata": {},
     "output_type": "execute_result"
    }
   ],
   "source": [
    "m.auto_tune_affin_global(X_opt, y_opt)"
   ]
  },
  {
   "cell_type": "code",
   "execution_count": 100,
   "id": "f57f754a-e6ea-4f47-97d4-0450fd757b1b",
   "metadata": {
    "tags": []
   },
   "outputs": [
    {
     "data": {
      "text/plain": [
       "43.4650382760263"
      ]
     },
     "execution_count": 100,
     "metadata": {},
     "output_type": "execute_result"
    }
   ],
   "source": [
    "m.auto_tune_affin_global(X_opt, y_opt)\n",
    "m.auto_fit_k()"
   ]
  },
  {
   "cell_type": "code",
   "execution_count": 110,
   "id": "7557ab83-438d-446a-b409-44ffa6160fe5",
   "metadata": {
    "tags": []
   },
   "outputs": [],
   "source": [
    "crps = m.crps_score(X_val, y_val)"
   ]
  },
  {
   "cell_type": "code",
   "execution_count": 111,
   "id": "8c80ff36-efc8-4663-9e90-b7f2bb93be45",
   "metadata": {
    "tags": []
   },
   "outputs": [
    {
     "data": {
      "text/plain": [
       "39.21474971943074"
      ]
     },
     "execution_count": 111,
     "metadata": {},
     "output_type": "execute_result"
    }
   ],
   "source": [
    "crps.mean()"
   ]
  },
  {
   "cell_type": "markdown",
   "id": "b6e50186-b4a8-4638-85d9-14d9650d6b20",
   "metadata": {},
   "source": [
    "#### replace ibug"
   ]
  },
  {
   "cell_type": "code",
   "execution_count": 254,
   "id": "ee6581e3-1257-40db-a51d-47b007f33122",
   "metadata": {
    "tags": []
   },
   "outputs": [],
   "source": [
    "m_ibug = InstanceBasedUncertainty().fit(*train_set, model_params={'k': 1})"
   ]
  },
  {
   "cell_type": "code",
   "execution_count": 257,
   "id": "bba264e4-a4e0-408f-a5a1-d5d90eebb342",
   "metadata": {
    "tags": []
   },
   "outputs": [],
   "source": [
    "m_npy = NpyInstanceBasedUncertainty()\n",
    "m_npy.model = m_ibug.model\n",
    "m_npy.L_train = m_npy.model.predict(X_train, pred_leaf = True)"
   ]
  },
  {
   "cell_type": "code",
   "execution_count": 258,
   "id": "68fc00d0-64af-4671-abe7-381c5b972f46",
   "metadata": {},
   "outputs": [],
   "source": [
    "simmilar_train_y = m_npy.get_y_simmilarities(X_opt)"
   ]
  },
  {
   "cell_type": "code",
   "execution_count": 261,
   "id": "83ac7e3b-2c84-46f6-9dec-08928c0060a5",
   "metadata": {},
   "outputs": [],
   "source": [
    "_,_,sv_ind,sv = m_ibug.pmodel.pred_dist(X_opt.to_numpy(), return_kneighbors=True)"
   ]
  },
  {
   "cell_type": "code",
   "execution_count": 262,
   "id": "cb3b807d-c724-47ba-9f91-6947a4926edc",
   "metadata": {},
   "outputs": [],
   "source": [
    "np_y = simmilar_train_y[:, -1]\n",
    "ibug_y = np.exp( sv[:,0])"
   ]
  },
  {
   "cell_type": "code",
   "execution_count": 270,
   "id": "828555b7-3f0c-422c-a3c5-4f4b34306b4b",
   "metadata": {
    "tags": []
   },
   "outputs": [
    {
     "data": {
      "text/plain": [
       "True"
      ]
     },
     "execution_count": 270,
     "metadata": {},
     "output_type": "execute_result"
    }
   ],
   "source": [
    "np.all(np.isclose(kdf[\"np\"], kdf[\"ibug\"]))"
   ]
  },
  {
   "cell_type": "code",
   "execution_count": 223,
   "id": "113ec495-a085-4866-a051-a96b17a9f215",
   "metadata": {
    "tags": []
   },
   "outputs": [
    {
     "data": {
      "application/vnd.jupyter.widget-view+json": {
       "model_id": "",
       "version_major": 2,
       "version_minor": 0
      },
      "text/plain": [
       "optimise k:   0%|          | 0/98 [00:00<?, ?it/s]"
      ]
     },
     "metadata": {},
     "output_type": "display_data"
    }
   ],
   "source": [
    "m = NpyInstanceBasedUncertainty().fit(*train_set)"
   ]
  },
  {
   "cell_type": "code",
   "execution_count": 225,
   "id": "c19edd48-c8f1-40ba-a402-e9e38894fa64",
   "metadata": {
    "tags": []
   },
   "outputs": [
    {
     "data": {
      "text/plain": [
       "39.544587957557695"
      ]
     },
     "execution_count": 225,
     "metadata": {},
     "output_type": "execute_result"
    }
   ],
   "source": [
    "m.crps_score(X_val, y_val).mean()"
   ]
  },
  {
   "cell_type": "code",
   "execution_count": null,
   "id": "e69aa705-a33a-451b-800a-e95ae9b962ee",
   "metadata": {},
   "outputs": [],
   "source": [
    "class combinedmodel:\n",
    "    \"\"\"\n",
    "    loc = gbrt prediction\n",
    "    var = b + a1 * nn_y_var + a2 * loc\n",
    "    \"\"\""
   ]
  },
  {
   "cell_type": "code",
   "execution_count": null,
   "id": "cc08b3b6-9ad8-4dc4-9ac1-988585b87862",
   "metadata": {},
   "outputs": [
    {
     "data": {
      "text/plain": [
       "43.69787865471943"
      ]
     },
     "execution_count": 213,
     "metadata": {},
     "output_type": "execute_result"
    }
   ],
   "source": [
    "m.auto_tune_affin_global(X_opt, y_opt)"
   ]
  },
  {
   "cell_type": "code",
   "execution_count": null,
   "id": "641d602c-467b-4c83-99f5-3d0730328edd",
   "metadata": {
    "tags": []
   },
   "outputs": [],
   "source": [
    "m.affin_coeffs = (0.19665441948315218, 0)"
   ]
  }
 ],
 "metadata": {
  "kernelspec": {
   "display_name": "Python 3 (ipykernel)",
   "language": "python",
   "name": "python3"
  },
  "language_info": {
   "codemirror_mode": {
    "name": "ipython",
    "version": 3
   },
   "file_extension": ".py",
   "mimetype": "text/x-python",
   "name": "python",
   "nbconvert_exporter": "python",
   "pygments_lexer": "ipython3",
   "version": "3.9.17"
  }
 },
 "nbformat": 4,
 "nbformat_minor": 5
}
