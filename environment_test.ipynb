{
 "cells": [
  {
   "cell_type": "markdown",
   "id": "e0e4755a-7b10-4cf0-b694-b1367ce2c7ca",
   "metadata": {},
   "source": [
    "# GBRT experimets - environment test"
   ]
  },
  {
   "cell_type": "markdown",
   "id": "1a1a0da5-d36b-48b8-b730-8fd2e019f9c6",
   "metadata": {},
   "source": [
    "### install python packages\n",
    "- run notebook with `python 3.9`"
   ]
  },
  {
   "cell_type": "code",
   "execution_count": 18,
   "id": "92693f96-607d-411f-8b88-3f90dafe0afc",
   "metadata": {
    "tags": []
   },
   "outputs": [],
   "source": [
    "import sys\n",
    "assert sys.version_info[:2] == (3,9), \"run notebook with python 3.9\""
   ]
  },
  {
   "cell_type": "code",
   "execution_count": null,
   "id": "9b9affca-6299-4794-b9fe-f1747921a0f6",
   "metadata": {},
   "outputs": [],
   "source": [
    "!pip install -r requirements.txt"
   ]
  },
  {
   "cell_type": "markdown",
   "id": "21c55526-0539-4b51-95f8-212a3002ceab",
   "metadata": {},
   "source": [
    "### get julia binary"
   ]
  },
  {
   "cell_type": "code",
   "execution_count": null,
   "id": "12276229-217a-4c9d-8c66-017ace552b6d",
   "metadata": {},
   "outputs": [],
   "source": [
    "!wget https://julialang-s3.julialang.org/bin/linux/x64/1.9/julia-1.9.2-linux-x86_64.tar.gz\n",
    "\n",
    "!tar -xf julia-1.9.2-linux-x86_64.tar.gz"
   ]
  },
  {
   "cell_type": "code",
   "execution_count": null,
   "id": "c847e66a-cff6-4756-add6-c9e3cb8ff50e",
   "metadata": {},
   "outputs": [],
   "source": []
  },
  {
   "cell_type": "code",
   "execution_count": null,
   "id": "512542bb-93c5-4669-8d9c-c71786c4f1ac",
   "metadata": {},
   "outputs": [],
   "source": [
    "import julia, os\n",
    "julia.install(julia = \"/content/julia-1.9.2/bin/julia\")"
   ]
  },
  {
   "cell_type": "code",
   "execution_count": 2,
   "id": "3f134060-8d05-4d4f-a485-f1a9babde4f0",
   "metadata": {
    "tags": []
   },
   "outputs": [
    {
     "name": "stdout",
     "output_type": "stream",
     "text": [
      "Environment: \t idms & gpu100\n",
      "Initializing Julia interpreter. This may take some time...\n",
      "done Julia_CRPS_Scoring.jl include\n",
      "CPU times: user 1min 5s, sys: 3.61 s, total: 1min 9s\n",
      "Wall time: 1min 10s\n"
     ]
    }
   ],
   "source": [
    "%%time\n",
    "import julia, os\n",
    "\n",
    "if \"idms\" in os.getcwd(): #working on SZTAKI server\n",
    "    julia_path_ = '/home/jungadam/idms/julia-1.9.2/bin/julia'\n",
    "    print(\"Environment: \\t idms & gpu100\")\n",
    "else: #working on local doker image\n",
    "    julia_path_ = '/home/djungadam/julia-1.9.2/bin/julia'\n",
    "    print(\"Environment:  \\t local docker\")\n",
    "    \n",
    "\n",
    "julia.Julia(runtime=julia_path_, compiled_modules=False)\n",
    "%load_ext julia.magic\n",
    "\n",
    "%julia include(\"Julia_CRPS_Scoring.jl\")\n",
    "%julia using .Julia_CRPS_Scoring\n",
    "print(\"done Julia_CRPS_Scoring.jl include\")"
   ]
  },
  {
   "cell_type": "code",
   "execution_count": 1,
   "id": "bf851e66-5bdc-4eba-9108-69f1890f1d22",
   "metadata": {
    "tags": []
   },
   "outputs": [],
   "source": [
    "import pandas as pd\n",
    "import lightgbm as lgb\n",
    "import numpy as np\n",
    "from sklearn.model_selection import train_test_split\n",
    "from sklearn.metrics import mean_squared_error as mse\n",
    "import matplotlib.pyplot as plt\n",
    "from matplotlib.patches import Rectangle\n",
    "\n",
    "%matplotlib inline\n",
    "%config InlineBackend.figure_format = 'retina'\n",
    "from tqdm.notebook import trange, tqdm\n",
    "from itertools import product, chain\n",
    "from scipy.stats.qmc import LatinHypercube as LHS\n",
    "\n",
    "import seaborn as sns\n",
    "sns.set()\n",
    "\n",
    "from scipy.stats import norm, invgamma, rv_discrete\n",
    "from scipy import integrate\n",
    "from ibug import IBUGWrapper\n",
    "from sklearn.neighbors import NearestCentroid\n",
    "from sklearn.preprocessing import OrdinalEncoder\n",
    "from scipy.stats import ttest_ind, chisquare\n",
    "from sklearn.linear_model import LinearRegression\n",
    "from scipy.optimize import minimize_scalar, minimize"
   ]
  }
 ],
 "metadata": {
  "kernelspec": {
   "display_name": "Python 3 (ipykernel)",
   "language": "python",
   "name": "python3"
  },
  "language_info": {
   "codemirror_mode": {
    "name": "ipython",
    "version": 3
   },
   "file_extension": ".py",
   "mimetype": "text/x-python",
   "name": "python",
   "nbconvert_exporter": "python",
   "pygments_lexer": "ipython3",
   "version": "3.9.17"
  }
 },
 "nbformat": 4,
 "nbformat_minor": 5
}
