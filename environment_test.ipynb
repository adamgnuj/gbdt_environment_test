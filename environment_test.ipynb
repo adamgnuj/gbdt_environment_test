{
 "cells": [
  {
   "cell_type": "markdown",
   "id": "e0e4755a-7b10-4cf0-b694-b1367ce2c7ca",
   "metadata": {},
   "source": [
    "# GBRT experimets - environment test"
   ]
  },
  {
   "cell_type": "markdown",
   "id": "028e0306-a464-4435-b70e-1128cba24952",
   "metadata": {
    "jp-MarkdownHeadingCollapsed": true,
    "tags": []
   },
   "source": [
    "## install python packages, and julia binary"
   ]
  },
  {
   "cell_type": "code",
   "execution_count": 1,
   "id": "2cbd085d-e39d-462c-8672-26bcd3617321",
   "metadata": {
    "tags": []
   },
   "outputs": [
    {
     "name": "stdout",
     "output_type": "stream",
     "text": [
      "\n",
      " ---install required python packages--- \n",
      "\n",
      "Defaulting to user installation because normal site-packages is not writeable\n",
      "Requirement already satisfied: pandas in /home/jovyan/.local/lib/python3.9/site-packages (from -r requirements.txt (line 3)) (1.4.3)\n",
      "Requirement already satisfied: lightgbm in /home/jovyan/.local/lib/python3.9/site-packages (from -r requirements.txt (line 4)) (3.3.2)\n",
      "Requirement already satisfied: numpy in /home/jovyan/.local/lib/python3.9/site-packages (from -r requirements.txt (line 5)) (1.25.2)\n",
      "Requirement already satisfied: scikit-learn in /opt/conda/lib/python3.9/site-packages (from -r requirements.txt (line 6)) (1.0.2)\n",
      "Requirement already satisfied: matplotlib in /opt/conda/lib/python3.9/site-packages (from -r requirements.txt (line 7)) (3.5.1)\n",
      "Requirement already satisfied: tqdm in /opt/conda/lib/python3.9/site-packages (from -r requirements.txt (line 8)) (4.62.3)\n",
      "Requirement already satisfied: seaborn in /opt/conda/lib/python3.9/site-packages (from -r requirements.txt (line 9)) (0.11.2)\n",
      "Requirement already satisfied: julia in /home/jovyan/.local/lib/python3.9/site-packages (from -r requirements.txt (line 10)) (0.6.1)\n",
      "Requirement already satisfied: scipy==1.11.1 in /home/jovyan/.local/lib/python3.9/site-packages (from -r requirements.txt (line 12)) (1.11.1)\n",
      "Requirement already satisfied: python-dateutil>=2.8.1 in /opt/conda/lib/python3.9/site-packages (from pandas->-r requirements.txt (line 3)) (2.8.2)\n",
      "Requirement already satisfied: pytz>=2020.1 in /opt/conda/lib/python3.9/site-packages (from pandas->-r requirements.txt (line 3)) (2021.3)\n",
      "Requirement already satisfied: wheel in /opt/conda/lib/python3.9/site-packages (from lightgbm->-r requirements.txt (line 4)) (0.37.1)\n",
      "Requirement already satisfied: threadpoolctl>=2.0.0 in /opt/conda/lib/python3.9/site-packages (from scikit-learn->-r requirements.txt (line 6)) (3.0.0)\n",
      "Requirement already satisfied: joblib>=0.11 in /opt/conda/lib/python3.9/site-packages (from scikit-learn->-r requirements.txt (line 6)) (1.1.0)\n",
      "Requirement already satisfied: kiwisolver>=1.0.1 in /opt/conda/lib/python3.9/site-packages (from matplotlib->-r requirements.txt (line 7)) (1.3.2)\n",
      "Requirement already satisfied: fonttools>=4.22.0 in /opt/conda/lib/python3.9/site-packages (from matplotlib->-r requirements.txt (line 7)) (4.28.5)\n",
      "Requirement already satisfied: cycler>=0.10 in /opt/conda/lib/python3.9/site-packages (from matplotlib->-r requirements.txt (line 7)) (0.11.0)\n",
      "Requirement already satisfied: packaging>=20.0 in /opt/conda/lib/python3.9/site-packages (from matplotlib->-r requirements.txt (line 7)) (21.3)\n",
      "Requirement already satisfied: pyparsing>=2.2.1 in /opt/conda/lib/python3.9/site-packages (from matplotlib->-r requirements.txt (line 7)) (3.0.6)\n",
      "Requirement already satisfied: pillow>=6.2.0 in /opt/conda/lib/python3.9/site-packages (from matplotlib->-r requirements.txt (line 7)) (8.4.0)\n",
      "Requirement already satisfied: six>=1.5 in /opt/conda/lib/python3.9/site-packages (from python-dateutil>=2.8.1->pandas->-r requirements.txt (line 3)) (1.16.0)\n",
      "\n",
      " ---download julia binary--- \n",
      "\n",
      "--2023-08-15 12:00:47--  https://julialang-s3.julialang.org/bin/linux/x64/1.9/julia-1.9.2-linux-x86_64.tar.gz\n",
      "Resolving julialang-s3.julialang.org (julialang-s3.julialang.org)... 151.101.66.49, 151.101.194.49, 151.101.2.49, ...\n",
      "Connecting to julialang-s3.julialang.org (julialang-s3.julialang.org)|151.101.66.49|:443... connected.\n",
      "HTTP request sent, awaiting response... 200 OK\n",
      "Length: 146384758 (140M) [application/x-tar]\n",
      "Saving to: ‘julia-1.9.2-linux-x86_64.tar.gz.1’\n",
      "\n",
      "julia-1.9.2-linux-x 100%[===================>] 139.60M   294MB/s    in 0.5s    \n",
      "\n",
      "2023-08-15 12:00:48 (294 MB/s) - ‘julia-1.9.2-linux-x86_64.tar.gz.1’ saved [146384758/146384758]\n",
      "\n",
      "\n",
      " ---unzip julia binary--- \n",
      "\n",
      "\n",
      " ---install PyJulia--- \n",
      "\n"
     ]
    },
    {
     "name": "stderr",
     "output_type": "stream",
     "text": [
      "[ Info: Julia version info\n"
     ]
    },
    {
     "name": "stdout",
     "output_type": "stream",
     "text": [
      "Julia Version 1.9.2\n",
      "Commit e4ee485e909 (2023-07-05 09:39 UTC)\n",
      "Platform Info:\n",
      "  OS: Linux (x86_64-linux-gnu)\n",
      "  uname: Linux 5.15.0-69-generic #76~20.04.1-Ubuntu SMP Mon Mar 20 15:54:19 UTC 2023 x86_64 x86_64\n",
      "  CPU: Intel(R) Xeon(R) Silver 4114 CPU @ 2.20GHz: \n",
      "                 speed         user         nice          sys         idle          irq\n",
      "       #1-40   986 MHz  214638315 s  148163495 s  136726107 s  4069687140 s          0 s\n",
      "  Memory: 32.0 GB (31553.4921875 MB free)\n",
      "  Uptime: 1.149639288e7 sec\n",
      "  Load Avg:  1.81  0.46  0.27\n",
      "  WORD_SIZE: 64\n",
      "  LIBM: libopenlibm\n",
      "  LLVM: libLLVM-14.0.6 (ORCJIT, skylake-avx512)\n",
      "  Threads: 1 on 40 virtual cores\n",
      "Environment:\n",
      "  XDG_CACHE_HOME = /home/jovyan/.cache/\n",
      "  HOME = /home/jovyan\n",
      "  PATH = /opt/conda/bin:/usr/local/sbin:/usr/local/bin:/usr/sbin:/usr/bin:/sbin:/bin:/home/jovyan/.local/bin\n",
      "  TERM = xterm-color\n"
     ]
    },
    {
     "name": "stderr",
     "output_type": "stream",
     "text": [
      "[ Info: Julia executable: /home/jovyan/uncertainty/gbdt_environment_test/julia-1.9.2/bin/julia\n",
      "[ Info: Trying to import PyCall...\n",
      "┌ Info: PyCall is already installed and compatible with Python executable.\n",
      "│ \n",
      "│ PyCall:\n",
      "│     python: /opt/conda/bin/python\n",
      "│     libpython: /opt/conda/lib/libpython3.9.so.1.0\n",
      "│ Python:\n",
      "│     python: /opt/conda/bin/python\n",
      "└     libpython: \n"
     ]
    }
   ],
   "source": [
    "import os, sys\n",
    "\n",
    "if sys.version_info[:2] != (3,9):\n",
    "    print(\"WARNING: should run notebook with python 3.9\")\n",
    "\n",
    "print(\"\\n ---install required python packages--- \\n\")\n",
    "!pip install -r requirements.txt\n",
    "\n",
    "print(\"\\n ---download julia binary--- \\n\")\n",
    "!wget https://julialang-s3.julialang.org/bin/linux/x64/1.9/julia-1.9.2-linux-x86_64.tar.gz\n",
    "\n",
    "print(\"\\n ---unzip julia binary--- \\n\")\n",
    "!tar -xf julia-1.9.2-linux-x86_64.tar.gz\n",
    "\n",
    "print(\"\\n ---install PyJulia--- \\n\")\n",
    "import julia\n",
    "julia.install(julia = \"julia-1.9.2/bin/julia\")"
   ]
  },
  {
   "cell_type": "markdown",
   "id": "9cf2a58f-546d-4ce9-aa1d-a33468625dcc",
   "metadata": {},
   "source": [
    "## import python packages"
   ]
  },
  {
   "cell_type": "code",
   "execution_count": 1,
   "id": "bf851e66-5bdc-4eba-9108-69f1890f1d22",
   "metadata": {
    "tags": []
   },
   "outputs": [],
   "source": [
    "import pandas as pd\n",
    "import lightgbm as lgb\n",
    "import numpy as np\n",
    "from sklearn.model_selection import train_test_split\n",
    "from sklearn.metrics import mean_squared_error as mse\n",
    "import matplotlib.pyplot as plt\n",
    "from matplotlib.patches import Rectangle\n",
    "\n",
    "%matplotlib inline\n",
    "%config InlineBackend.figure_format = 'retina'\n",
    "from tqdm import trange, tqdm\n",
    "from itertools import product, chain\n",
    "from scipy.stats.qmc import LatinHypercube as LHS\n",
    "\n",
    "import seaborn as sns\n",
    "sns.set()\n",
    "\n",
    "from scipy.stats import norm, invgamma, rv_discrete\n",
    "from scipy import integrate\n",
    "from sklearn.neighbors import NearestCentroid\n",
    "from sklearn.preprocessing import OrdinalEncoder\n",
    "from scipy.stats import ttest_ind, chisquare\n",
    "from sklearn.linear_model import LinearRegression\n",
    "from scipy.optimize import minimize_scalar, minimize\n",
    "import pickle\n",
    "from IPython.display import display"
   ]
  },
  {
   "cell_type": "markdown",
   "id": "23c8acc0-efd0-4a69-9db1-26b11b76189e",
   "metadata": {},
   "source": [
    "## set up julia runtime"
   ]
  },
  {
   "cell_type": "code",
   "execution_count": 2,
   "id": "16c5b610-6a53-4dd0-94f9-b87fac150e99",
   "metadata": {
    "tags": []
   },
   "outputs": [
    {
     "name": "stdout",
     "output_type": "stream",
     "text": [
      "Initializing Julia interpreter. This may take some time...\n",
      "CPU times: user 22 s, sys: 1.49 s, total: 23.5 s\n",
      "Wall time: 22.6 s\n"
     ]
    }
   ],
   "source": [
    "%%time\n",
    "import julia, os\n",
    "\n",
    "# julia_path_ = '/home/jungadam/idms/julia-1.9.2/bin/julia' \n",
    "julia_path_ = 'julia-1.9.2/bin/julia'\n",
    "\n",
    "julia.Julia(runtime=julia_path_, compiled_modules=False)\n",
    "\n",
    "%load_ext julia.magic"
   ]
  },
  {
   "cell_type": "markdown",
   "id": "194abfc0-1b1e-4be2-85d7-31abf0ba46b0",
   "metadata": {},
   "source": [
    "## install & import julia packages"
   ]
  },
  {
   "cell_type": "code",
   "execution_count": 3,
   "id": "6a50eba5-68b9-47b4-bdac-c43bf2fbd1c7",
   "metadata": {
    "tags": []
   },
   "outputs": [
    {
     "name": "stderr",
     "output_type": "stream",
     "text": [
      "   Resolving package versions...\n",
      "  No Changes to `~/.julia/environments/v1.9/Project.toml`\n",
      "  No Changes to `~/.julia/environments/v1.9/Manifest.toml`\n"
     ]
    }
   ],
   "source": [
    "%%julia\n",
    "using Pkg\n",
    "Pkg.add([\"DataFrames\", \"StatsBase\", \"Integrals\", \"Distributions\",\n",
    "        \"Statistics\", \"Optim\", \"ProgressMeter\"])"
   ]
  },
  {
   "cell_type": "code",
   "execution_count": 4,
   "id": "3f134060-8d05-4d4f-a485-f1a9babde4f0",
   "metadata": {
    "tags": []
   },
   "outputs": [],
   "source": [
    "%%julia\n",
    "using Optim, ProgressMeter\n",
    "include(\"Julia_CRPS_Scoring.jl\")\n",
    "using .Julia_CRPS_Scoring"
   ]
  },
  {
   "cell_type": "markdown",
   "id": "2f41517d-22f9-41c2-b529-bae3cfc99f28",
   "metadata": {
    "tags": []
   },
   "source": [
    "## test run with a selection of models"
   ]
  },
  {
   "cell_type": "markdown",
   "id": "2562da7c-df3a-45da-9a2f-5dcba1cac1a9",
   "metadata": {
    "tags": []
   },
   "source": [
    "### model implementations"
   ]
  },
  {
   "cell_type": "code",
   "execution_count": 5,
   "id": "6055195d-1e81-450a-8987-c195f04f0924",
   "metadata": {
    "tags": []
   },
   "outputs": [],
   "source": [
    "from scipy.stats import ecdf as ecdf_special\n",
    "class ECDF_RV:\n",
    "    \"\"\"wrapper for work with ecdf result as standard scipy RVs\"\"\"\n",
    "    \n",
    "    def __init__(self, ecdf_rv, samples):\n",
    "        self.ecdf_rv = ecdf_rv\n",
    "        self.samples = samples\n",
    "        \n",
    "    def cdf(self, x):\n",
    "        return self.ecdf_rv.cdf.evaluate(x)\n",
    "    \n",
    "    def ppf(self, x):\n",
    "        i = np.searchsorted(self.ecdf_rv.cdf.probabilities, x)\n",
    "        return self.ecdf_rv.cdf.quantiles[i]\n",
    "    \n",
    "    def mean(self):\n",
    "        return self.samples.mean()\n",
    "    \n",
    "    def var(self):\n",
    "        return self.samples.var()\n",
    "    \n",
    "ecdf = lambda samples : ECDF_RV(ecdf_special(samples), samples)"
   ]
  },
  {
   "cell_type": "code",
   "execution_count": 6,
   "id": "40c49e1a-f1fa-410a-a578-9c71670634d1",
   "metadata": {
    "tags": []
   },
   "outputs": [],
   "source": [
    "def fit_MM_inv_gamma(m, s):\n",
    "    \"\"\"\n",
    "    fit inv gamma to first two moments 'm' and 's',\n",
    "    with method of moments.\n",
    "    \"\"\"\n",
    "    \n",
    "    # assert s > 0, \"elfajult szoras\"\n",
    "    if s == 0:\n",
    "        return rv_discrete(name='custm', values=(m, 1))\n",
    "        \n",
    "    \n",
    "    fit_alpha = m**2 / s + 2\n",
    "    fit_scale = m * (fit_alpha - 1)\n",
    "    \n",
    "    rv = invgamma(a = fit_alpha, scale = fit_scale, loc = 0)\n",
    "    \n",
    "    if np.isnan(rv.mean()) or np.isnan(rv.var()):\n",
    "        print(m, s,  fit_alpha, fit_scale)\n",
    "        raise Exception(\"b fit\")\n",
    "    \n",
    "    return rv\n",
    "\n",
    "fit_MM_inv_gamma = np.vectorize(fit_MM_inv_gamma)"
   ]
  },
  {
   "cell_type": "code",
   "execution_count": 7,
   "id": "596c3fdb-5b70-43da-a8bf-3d18469eb11a",
   "metadata": {},
   "outputs": [],
   "source": [
    "from julia import Main\n",
    "\n",
    "def julia_CRPS_distribution(loc, var, obs, distr = \"InverseGamma\"):\n",
    "    Main.loc = loc\n",
    "    Main.var = var\n",
    "    Main.obs = obs\n",
    "    Main.distr = distr\n",
    "\n",
    "    crps_score = %julia CRPS_distribution(loc, var, obs, distr)\n",
    "    return crps_score\n",
    "\n",
    "def julia_CRPS_ecdf(samples, obs):\n",
    "    Main.samples = samples\n",
    "    Main.obs = obs\n",
    "    \n",
    "    crps_score = %julia CRPS_ecdf(samples, obs)\n",
    "    return crps_score"
   ]
  },
  {
   "cell_type": "code",
   "execution_count": 8,
   "id": "0a89219a-d119-4427-9026-a2bb1b322de6",
   "metadata": {
    "tags": []
   },
   "outputs": [],
   "source": [
    "def auto_scale_variance(loc, var, y):\n",
    "    \"\"\"return optimal_variance_coeff, CRPS_score\"\"\"\n",
    "    def f(s, loc = loc, y = y):\n",
    "        var_scaled = var * s\n",
    "        var_scaled[var_scaled < 0] = 0\n",
    "        crps = julia_CRPS_distribution(loc, var_scaled, y)\n",
    "        return crps.mean()\n",
    "\n",
    "    ubound = 1e15\n",
    "    res = minimize_scalar(f, bounds = [0, ubound])\n",
    "    if np.isclose(ubound, res.x):\n",
    "        raise Exception(\"optim error\")\n",
    "        \n",
    "    return res.x, res.fun"
   ]
  },
  {
   "cell_type": "code",
   "execution_count": 9,
   "id": "1a320d2e-5410-42c2-9621-9bd9fa7a2c31",
   "metadata": {
    "tags": []
   },
   "outputs": [],
   "source": [
    "class UncertaintyMeasure:\n",
    "    def __init__(self, model_params = {}):\n",
    "        self.model = lgb.LGBMRegressor(**model_params)\n",
    "        \n",
    "    def fit(self, X_train, y_train, X_opt, y_opt, model_fit_params = {}):\n",
    "        self.X_train = X_train\n",
    "        self.y_train = y_train\n",
    "        self.model.fit(self.X_train, \n",
    "                       np.log(self.y_train), **model_fit_params)\n",
    "        return self\n",
    "        \n",
    "    def predict_loc(self, X_pred):\n",
    "        return np.exp(self.model.predict(X_pred))\n",
    "\n",
    "    def predict_rv(self, X):\n",
    "        \"\"\"pont becsles\"\"\"\n",
    "        y = np.exp(self.model.predict(X))\n",
    "        return np.array([rv_discrete(values=(m, 1)) for m in y])\n",
    "\n",
    "    \n",
    "    def crps_score(self, X_val, y_val):\n",
    "        loc = self.predict_loc(X_val)\n",
    "        samples = loc.reshape(-1,1)\n",
    "        crps_score = julia_CRPS_ecdf(samples, y_val)   \n",
    "        return crps_score\n",
    "    \n",
    "    \n",
    "    def skill_scores(self, X_val, y_val, ref_scores):\n",
    "        crps_score = self.crps_score(X_val, y_val)\n",
    "        skill_scores = {\"crps\" : crps_score, \n",
    "                          **{n : skill_score(crps_score, ref_scores[n].mean()) \n",
    "                                                 for n in ref_scores.columns[:-1]}}\n",
    "        return pd.DataFrame.from_dict(skill_scores)\n",
    "\n",
    "    \n",
    "    def score(self, X_val, y_val, ref_scores):\n",
    "        \"\"\"\n",
    "        retrun skill scores and p value\n",
    "        on validation set\n",
    "        \"\"\"\n",
    "        skill_scores = self.skill_scores(X_val, y_val, ref_scores)\n",
    "        pvalue = ttest_ind(ref_scores[\"location_ig\"], skill_scores[\"crps\"]).pvalue\n",
    "        return {**skill_scores.mean().to_dict(), \"p_value\" : pvalue}"
   ]
  },
  {
   "cell_type": "code",
   "execution_count": 10,
   "id": "b2a0a3eb-0029-44b9-94a6-707b62ccf942",
   "metadata": {
    "tags": []
   },
   "outputs": [],
   "source": [
    "class UMMoments(UncertaintyMeasure):\n",
    "    \"\"\"\n",
    "    uncertainty measure using a 2 parameter\n",
    "    distribution (e.g. inverse gamma)\n",
    "    \"\"\"\n",
    "    \n",
    "    def __init__(self, model_params = {}, distribution = \"InverseGamma\"):\n",
    "        super().__init__(model_params)\n",
    "        self.distribution = distribution\n",
    "        self.affin_coeffs = (1,0) # (a,b) : var := a * var + b\n",
    "        \n",
    "    def get_moments(self, X_pred):\n",
    "        \"\"\"point predict\"\"\"\n",
    "        loc = self.predict_loc(X_pred)\n",
    "        var = np.zeros_like(loc)\n",
    "        return loc, var\n",
    "        \n",
    "    def predict_rv(self, X):\n",
    "        loc, var = self.get_moments(X)\n",
    "        \n",
    "        assert self.distribution == \"InverseGamma\", f\"{self.distribution} is not implemented\"\n",
    "        return fit_MM_inv_gamma(loc, var)\n",
    "        \n",
    "    def crps_score(self, X_val, y_val):\n",
    "        loc, var = self.get_moments(X_val)\n",
    "        var[var<0] = 0\n",
    "        distr = self.distribution\n",
    "        crps_score = julia_CRPS_distribution(loc, var, y_val, distr)\n",
    "        return crps_score\n",
    "    \n",
    "    \n",
    "    def auto_tune_affin_global(self, X_opt, y_opt):\n",
    "        \"\"\"find optimal variance scaling on `opt` dataset\"\"\"\n",
    "        \n",
    "        loc, var = self.get_moments(X_opt)\n",
    "        a, crps = auto_scale_variance(loc, var, y_opt)\n",
    "        \n",
    "        self.affin_coeffs = (a,0)\n",
    "        \n",
    "        return crps"
   ]
  },
  {
   "cell_type": "code",
   "execution_count": 11,
   "id": "80511543-9b74-4589-8b55-092d480061d9",
   "metadata": {
    "tags": []
   },
   "outputs": [],
   "source": [
    "class Zero_var(UMMoments):\n",
    "    pass"
   ]
  },
  {
   "cell_type": "code",
   "execution_count": 12,
   "id": "da485345-2efa-49eb-adea-3d037ee3c3ec",
   "metadata": {
    "tags": []
   },
   "outputs": [],
   "source": [
    "class Optimal_var(UMMoments):  \n",
    "    \n",
    "    def optimal_crps(self, X_val, y_val):\n",
    "        loc = self.predict_loc(X_val)\n",
    "        y_val = y_val.to_numpy()\n",
    "        Main.loc = loc\n",
    "        Main.obs = y_val\n",
    "\n",
    "        #maximal observed squared error\n",
    "        max_var = (loc - y_val).max()**2\n",
    "        Main.max_var = max_var\n",
    "\n",
    "        julia.Main.eval(\"\"\"\n",
    "            mins = []\n",
    "            minimizers = []\n",
    "            @showprogress \"search optimal variances for prediction set\" for (l,o) in zip(loc, obs)\n",
    "                f(s) = CRPS_distribution([l], [s], [o])[1]\n",
    "                res = optimize(f, 0, max_var) \n",
    "                push!(minimizers, res.minimizer)\n",
    "                push!(mins, res.minimum)\n",
    "            end\n",
    "                        \"\"\")\n",
    "        opt_crps = %julia mins\n",
    "        opt_vars = %julia minimizers\n",
    "\n",
    "        return opt_crps, opt_vars\n",
    "    \n",
    "    def crps_score(self, X_val, y_val):\n",
    "        crps, _ = self.optimal_crps(X_val, y_val) \n",
    "        return crps\n",
    "        "
   ]
  },
  {
   "cell_type": "code",
   "execution_count": 13,
   "id": "810cbe41-6af0-42ff-ab2a-44d914f9ed60",
   "metadata": {
    "tags": []
   },
   "outputs": [],
   "source": [
    "class LocAffin_var(UMMoments):\n",
    "    \"\"\"\n",
    "    loc = gbdt prediction\n",
    "    var = a * loc + b\n",
    "    \"\"\"\n",
    "    \n",
    "    def fit(self, X_train, y_train, X_opt, y_opt):\n",
    "        super().fit(X_train, y_train, X_opt, y_opt)\n",
    "        self.optimize_var_coeffs(X_opt, y_opt)  \n",
    "        return self\n",
    "    \n",
    "    def get_moments(self, X_pred):\n",
    "        loc = np.exp(self.model.predict(X_pred))\n",
    "        var = loc * self.var_coeffs[0] + self.var_coeffs[1]\n",
    "        var[var <= 0] = 0\n",
    "        return loc, var\n",
    "    \n",
    "    def optimize_var_coeffs(self, X_opt, y_opt):\n",
    "        loc = np.exp(self.model.predict(X_opt))\n",
    "        def f(x, y_opt = y_opt):\n",
    "            var = loc * x[0] + x[1]\n",
    "            var[var <= 0] = 0\n",
    "            crps = julia_CRPS_distribution(loc, var, y_opt)\n",
    "            return crps.mean()\n",
    "\n",
    "        res = minimize(f, x0 = [1,0])\n",
    "        self.var_coeffs = res.x"
   ]
  },
  {
   "cell_type": "code",
   "execution_count": 14,
   "id": "c5038302-e70c-471b-9946-51a94923cb38",
   "metadata": {
    "tags": []
   },
   "outputs": [],
   "source": [
    "class Constant_var(UMMoments):\n",
    "    \"\"\"\n",
    "    loc = gbdt prediction\n",
    "    var = const\n",
    "    \"\"\"\n",
    "\n",
    "    def fit(self, X_train, y_train, X_opt, y_opt):\n",
    "        super().fit(X_train, y_train, X_opt, y_opt)\n",
    "        self.optimize_var_coeff(X_opt, y_opt)  \n",
    "        return self\n",
    "    \n",
    "    def get_moments(self, X_pred):\n",
    "        loc = np.exp(self.model.predict(X_pred))\n",
    "        var = np.ones_like(loc) * self.var_coeff\n",
    "        var[var <= 0] = 0\n",
    "        return loc, var\n",
    "    \n",
    "    def optimize_var_coeff(self, X_opt, y_opt):\n",
    "        loc = np.exp(self.model.predict(X_opt))\n",
    "        def f(x, y_opt = y_opt):\n",
    "            var = np.ones_like(loc) * x\n",
    "            var[var <= 0] = 0\n",
    "            crps = julia_CRPS_distribution(loc, var, y_opt)\n",
    "            return crps.mean()\n",
    "\n",
    "        res = minimize_scalar(f)\n",
    "        self.var_coeff = res.x"
   ]
  },
  {
   "cell_type": "code",
   "execution_count": 15,
   "id": "b4b3ed23-6d7c-4941-beeb-190ca21c2fc0",
   "metadata": {
    "tags": []
   },
   "outputs": [],
   "source": [
    "class InstanceBasedUncertainty(UMMoments):\n",
    "    def fit(self,X_train, y_train, X_opt, y_opt, k = 40, model_fit_params = {}):\n",
    "        super().fit(X_train, y_train, X_opt, y_opt)\n",
    "        \n",
    "        self.L_train = self.model.predict(X_train, pred_leaf = True)\n",
    "        self.k = k\n",
    "        \n",
    "        self.auto_tune_affin_global(X_opt, y_opt)\n",
    "        self.auto_tune_k(X_opt, y_opt)\n",
    "        return self\n",
    "    \n",
    "    def get_y_simmilarities(self, X_pred):\n",
    "        L_pred = self.model.predict(X_pred, pred_leaf = True)\n",
    "        L_train_b = self.L_train.T[np.newaxis, :,:]\n",
    "        L_pred_b = np.broadcast_to(L_pred[:,:,np.newaxis], \n",
    "                                   shape = (*L_pred.shape, self.L_train.shape[0]))\n",
    "        leaf_matches = L_train_b == L_pred_b\n",
    "        \n",
    "        sum_of_same_leaf = leaf_matches.sum(axis = 1)\n",
    "        y_train_br = np.broadcast_to(self.y_train.values[np.newaxis, :], shape = sum_of_same_leaf.shape)\n",
    "        perm = np.argsort(sum_of_same_leaf, axis = 1)\n",
    "        simmilar_train_y = np.take_along_axis(y_train_br, perm, axis = 1)\n",
    "        return simmilar_train_y\n",
    "    \n",
    "    def get_moments(self, X_pred):\n",
    "        loc =  np.exp(self.model.predict(X_pred))\n",
    "        \n",
    "\n",
    "        simmilar_train_y = self.get_y_simmilarities(X_pred)\n",
    "        k = self.k\n",
    "        var = simmilar_train_y[:,-k:].var(axis = 1)\n",
    "        var = self.affin_coeffs[0] * var + self.affin_coeffs[1]\n",
    "        return loc, var\n",
    "    \n",
    "    def auto_tune_k(self, X_opt, y_opt):\n",
    "        simmilar_train_y = self.get_y_simmilarities(X_opt)\n",
    "        loc =  np.exp(self.model.predict(X_opt))\n",
    "\n",
    "        def f(k, y_opt = y_opt):\n",
    "            if k <= 0:\n",
    "                return np.inf\n",
    "            k = int(k)\n",
    "            \n",
    "            var = simmilar_train_y[:,-k:].var(axis = 1)\n",
    "            var = self.affin_coeffs[0] * var + self.affin_coeffs[1]\n",
    "            var[var<0]= 0\n",
    "            lloc, ly_opt = loc, y_opt\n",
    "            crps = julia_CRPS_distribution(lloc, var, ly_opt)\n",
    "            return crps.mean()\n",
    "        \n",
    "\n",
    "        test_k = [*range(2,100)] #[3,4,5,10,20,30,40,60,80,100]\n",
    "        test = [(k, f(k)) for k in tqdm(test_k, desc= \"optimise k\", leave=False)]\n",
    "        \n",
    "        k, m = min(test, key = lambda t : t[1])\n",
    "        self.k = k\n",
    "        \n",
    "        \n",
    "        return k, m, test\n",
    "            "
   ]
  },
  {
   "cell_type": "markdown",
   "id": "61b0a29c-cc84-43fc-9905-0e1b7ee33705",
   "metadata": {},
   "source": [
    "### test models"
   ]
  },
  {
   "cell_type": "code",
   "execution_count": 16,
   "id": "531967a8-484b-4d50-b01d-e925312f18ec",
   "metadata": {
    "tags": []
   },
   "outputs": [],
   "source": [
    "#load sgem matrix product dataset\n",
    "df = pd.read_csv(\"sgemm_product.csv\")\n",
    "\n",
    "runCols = [\"Run1 (ms)\", \"Run2 (ms)\", \"Run3 (ms)\", \"Run4 (ms)\"]\n",
    "df[\"minRun\"] = df[runCols].min(axis = 1)\n",
    "df[\"meanRun\"] = df[runCols].mean(axis = 1)\n",
    "\n",
    "X = df.drop(columns = [*runCols, \"minRun\", \"meanRun\"])\n",
    "target = \"minRun\"\n",
    "Y = df[target]"
   ]
  },
  {
   "cell_type": "code",
   "execution_count": 17,
   "id": "ebcd0a83-78ad-4fc3-9564-0d0e2bc6f664",
   "metadata": {
    "tags": []
   },
   "outputs": [],
   "source": [
    "#split data \n",
    "\n",
    "# validate model:\n",
    "X_data, X_val, y_data, y_val = train_test_split(X, Y, test_size = 5000, random_state=1)\n",
    "# fine tune hyperparam:\n",
    "X_data, X_opt, y_data, y_opt = train_test_split(X_data, y_data, test_size = 999, random_state=1)\n",
    "# train model:\n",
    "X_train, X_data, y_train, y_data = train_test_split(X_data, y_data, train_size = 1000, random_state=1)"
   ]
  },
  {
   "cell_type": "code",
   "execution_count": 18,
   "id": "85bcd2bf-2368-4bb9-b13b-f36bfd757050",
   "metadata": {
    "tags": []
   },
   "outputs": [],
   "source": [
    "train_set = X_train, y_train, X_opt, y_opt"
   ]
  },
  {
   "cell_type": "code",
   "execution_count": 19,
   "id": "4981f125-1341-420e-a6f4-9b423ea5e843",
   "metadata": {
    "tags": []
   },
   "outputs": [],
   "source": [
    "models = [Zero_var, LocAffin_var, Constant_var, InstanceBasedUncertainty, Optimal_var]"
   ]
  },
  {
   "cell_type": "code",
   "execution_count": 20,
   "id": "37c05205-641a-4c3b-bba9-01cac3e891b8",
   "metadata": {
    "tags": []
   },
   "outputs": [
    {
     "name": "stdout",
     "output_type": "stream",
     "text": [
      "Zero_var \n",
      "\n",
      "LocAffin_var \n",
      "\n",
      "Constant_var \n",
      "\n",
      "InstanceBasedUncertainty \n",
      "\n"
     ]
    },
    {
     "name": "stderr",
     "output_type": "stream",
     "text": [
      "                                                           \r"
     ]
    },
    {
     "name": "stdout",
     "output_type": "stream",
     "text": [
      "Optimal_var \n",
      "\n"
     ]
    },
    {
     "name": "stderr",
     "output_type": "stream",
     "text": [
      "search optimal variances for prediction set 100%|████████| Time: 0:00:23\u001b[K\u001b[K\u001b[K\u001b[K\u001b[K\u001b[K\u001b[K\u001b[K\u001b[K\u001b[K\u001b[K\u001b[K\u001b[K\u001b[K\u001b[K\u001b[K\u001b[K\u001b[K\u001b[K\u001b[K\u001b[K\u001b[K\u001b[K\u001b[K\u001b[K\u001b[K\u001b[K\u001b[K\u001b[K\u001b[K\u001b[K\u001b[K\u001b[K\u001b[K\u001b[K\u001b[K\u001b[K\u001b[K\u001b[K\u001b[K\u001b[K\u001b[K\u001b[K\u001b[K\u001b[K\u001b[K\u001b[K\u001b[K\u001b[K\u001b[K\u001b[K\u001b[K\u001b[K\u001b[K\u001b[K\u001b[K\u001b[K\u001b[K\u001b[K\u001b[K\u001b[K\u001b[K\u001b[K\u001b[K\u001b[K\u001b[K\u001b[K\u001b[K\u001b[K\u001b[K\u001b[K\u001b[K\u001b[K\u001b[K\u001b[K\u001b[K\u001b[K\u001b[K\u001b[K\u001b[K\u001b[K\u001b[K\u001b[K\u001b[K\u001b[K\u001b[K\u001b[K\u001b[K\u001b[K\u001b[K\u001b[K\u001b[K\u001b[K\u001b[K\u001b[K\u001b[K\u001b[K\u001b[K\u001b[K\u001b[K\u001b[K\u001b[K\u001b[K\u001b[K\u001b[K\u001b[K\u001b[K\u001b[K\u001b[K\u001b[K\u001b[K\u001b[K\u001b[K\u001b[K\u001b[K\u001b[K\u001b[K\u001b[K\u001b[K\u001b[K\u001b[K\u001b[K\u001b[K\u001b[K\u001b[K\u001b[K\u001b[K\u001b[K\u001b[K\u001b[K\u001b[K\u001b[K\u001b[K\u001b[K\u001b[K\u001b[K\u001b[K\u001b[K\u001b[K\u001b[K\u001b[K\u001b[K\u001b[K\u001b[K\u001b[K\u001b[K\u001b[K\u001b[K\u001b[K\u001b[K\u001b[K\u001b[K\u001b[K\u001b[K\u001b[K\u001b[K\u001b[K\n"
     ]
    }
   ],
   "source": [
    "scores = {}\n",
    "for Model in models:\n",
    "    print(Model.__name__, \"\\n\")\n",
    "    m = Model().fit(X_train, y_train, X_opt, y_opt)\n",
    "    crps = m.crps_score(X_val, y_val)\n",
    "    scores[Model.__name__] = crps"
   ]
  },
  {
   "cell_type": "code",
   "execution_count": 21,
   "id": "51e4f771-7bad-4b99-b846-be1ddbe8be99",
   "metadata": {
    "tags": []
   },
   "outputs": [],
   "source": [
    "scores_df = pd.DataFrame(scores)\n",
    "results = pd.DataFrame(scores_df.mean(), columns = [\"CRPS\"])"
   ]
  },
  {
   "cell_type": "code",
   "execution_count": 22,
   "id": "6e922d00-1ff7-4f45-9420-18b595bddef3",
   "metadata": {
    "tags": []
   },
   "outputs": [],
   "source": [
    "r = scores_df[\"Constant_var\"].mean()\n",
    "o = scores_df[\"Optimal_var\"].mean()\n",
    "results[\"skill_score\"] = [((r - scores_df[c]) / (r - o)).mean() for c in scores_df.columns]\n",
    "results[\"skill_score\"] = results[\"skill_score\"].round(3)"
   ]
  },
  {
   "cell_type": "code",
   "execution_count": 23,
   "id": "ae49a232-8127-417f-bf0e-77d91418dfb3",
   "metadata": {
    "tags": []
   },
   "outputs": [
    {
     "data": {
      "text/html": [
       "<div>\n",
       "<style scoped>\n",
       "    .dataframe tbody tr th:only-of-type {\n",
       "        vertical-align: middle;\n",
       "    }\n",
       "\n",
       "    .dataframe tbody tr th {\n",
       "        vertical-align: top;\n",
       "    }\n",
       "\n",
       "    .dataframe thead th {\n",
       "        text-align: right;\n",
       "    }\n",
       "</style>\n",
       "<table border=\"1\" class=\"dataframe\">\n",
       "  <thead>\n",
       "    <tr style=\"text-align: right;\">\n",
       "      <th></th>\n",
       "      <th>CRPS</th>\n",
       "      <th>skill_score</th>\n",
       "    </tr>\n",
       "  </thead>\n",
       "  <tbody>\n",
       "    <tr>\n",
       "      <th>Optimal_var</th>\n",
       "      <td>28.860361</td>\n",
       "      <td>1.000</td>\n",
       "    </tr>\n",
       "    <tr>\n",
       "      <th>LocAffin_var</th>\n",
       "      <td>35.927854</td>\n",
       "      <td>0.373</td>\n",
       "    </tr>\n",
       "    <tr>\n",
       "      <th>InstanceBasedUncertainty</th>\n",
       "      <td>36.100003</td>\n",
       "      <td>0.358</td>\n",
       "    </tr>\n",
       "    <tr>\n",
       "      <th>Constant_var</th>\n",
       "      <td>40.131600</td>\n",
       "      <td>0.000</td>\n",
       "    </tr>\n",
       "    <tr>\n",
       "      <th>Zero_var</th>\n",
       "      <td>48.724530</td>\n",
       "      <td>-0.762</td>\n",
       "    </tr>\n",
       "  </tbody>\n",
       "</table>\n",
       "</div>"
      ],
      "text/plain": [
       "                               CRPS  skill_score\n",
       "Optimal_var               28.860361        1.000\n",
       "LocAffin_var              35.927854        0.373\n",
       "InstanceBasedUncertainty  36.100003        0.358\n",
       "Constant_var              40.131600        0.000\n",
       "Zero_var                  48.724530       -0.762"
      ]
     },
     "execution_count": 23,
     "metadata": {},
     "output_type": "execute_result"
    }
   ],
   "source": [
    "results.sort_values(by = \"CRPS\")"
   ]
  },
  {
   "cell_type": "code",
   "execution_count": null,
   "id": "aaeefc61-32f8-4167-bbf5-920a80d3f64c",
   "metadata": {},
   "outputs": [],
   "source": []
  }
 ],
 "metadata": {
  "kernelspec": {
   "display_name": "Python 3 (ipykernel)",
   "language": "python",
   "name": "python3"
  },
  "language_info": {
   "codemirror_mode": {
    "name": "ipython",
    "version": 3
   },
   "file_extension": ".py",
   "mimetype": "text/x-python",
   "name": "python",
   "nbconvert_exporter": "python",
   "pygments_lexer": "ipython3",
   "version": "3.9.7"
  }
 },
 "nbformat": 4,
 "nbformat_minor": 5
}
